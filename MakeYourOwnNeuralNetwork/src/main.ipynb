{
 "cells": [
  {
   "cell_type": "code",
   "execution_count": 1,
   "id": "fd780acc",
   "metadata": {},
   "outputs": [],
   "source": [
    "# Imports\n",
    "\n",
    "import numpy as np\n",
    "from NeuralNetworks import NeuralNetwork\n"
   ]
  },
  {
   "cell_type": "code",
   "execution_count": 2,
   "id": "1cfe09d4",
   "metadata": {},
   "outputs": [],
   "source": [
    "# Data Reading\n",
    "\n",
    "path = \"./data/\""
   ]
  },
  {
   "cell_type": "code",
   "execution_count": 4,
   "id": "4517b488",
   "metadata": {},
   "outputs": [],
   "source": [
    "# Execution\n",
    "\n",
    "# Architecture\n",
    "neurons_per_layer = np.array([5, 4, 5])\n",
    "learning_rate = 0.3\n",
    "activation_function = \"sigmoid\"\n",
    "\n",
    "# Instantiation\n",
    "model = NeuralNetwork(neurons_per_layer, learning_rate, activation_function)\n"
   ]
  },
  {
   "cell_type": "code",
   "execution_count": null,
   "id": "bdbc6d62",
   "metadata": {},
   "outputs": [
    {
     "data": {
      "text/plain": [
       "<NeuralNetworks.NeuralNetwork at 0x7992d0395d30>"
      ]
     },
     "execution_count": 4,
     "metadata": {},
     "output_type": "execute_result"
    }
   ],
   "source": [
    "model"
   ]
  }
 ],
 "metadata": {
  "kernelspec": {
   "display_name": "base",
   "language": "python",
   "name": "python3"
  },
  "language_info": {
   "codemirror_mode": {
    "name": "ipython",
    "version": 3
   },
   "file_extension": ".py",
   "mimetype": "text/x-python",
   "name": "python",
   "nbconvert_exporter": "python",
   "pygments_lexer": "ipython3",
   "version": "3.12.7"
  }
 },
 "nbformat": 4,
 "nbformat_minor": 5
}
