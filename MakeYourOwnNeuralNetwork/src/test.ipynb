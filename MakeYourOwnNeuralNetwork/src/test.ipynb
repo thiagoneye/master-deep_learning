{
 "cells": [
  {
   "cell_type": "code",
   "execution_count": null,
   "id": "fd780acc",
   "metadata": {},
   "outputs": [],
   "source": [
    "# Imports\n",
    "\n",
    "import numpy as np\n",
    "from NeuralNetwork import MLP"
   ]
  },
  {
   "cell_type": "code",
   "execution_count": null,
   "id": "1cfe09d4",
   "metadata": {},
   "outputs": [],
   "source": [
    "# Data Reading\n",
    "\n",
    "path = \"../data/\""
   ]
  },
  {
   "cell_type": "code",
   "execution_count": null,
   "id": "4517b488",
   "metadata": {},
   "outputs": [
    {
     "data": {
      "text/plain": [
       "array([[0.72357477],\n",
       "       [0.49234901],\n",
       "       [0.50125476]])"
      ]
     },
     "execution_count": 3,
     "metadata": {},
     "output_type": "execute_result"
    }
   ],
   "source": [
    "# Execution\n",
    "\n",
    "# Architecture\n",
    "neurons_per_layer = np.array([3, 3, 3]) # 3 layers with 3 neurons each\n",
    "learning_rate = 0.3\n",
    "activation_function = \"sigmoid\"\n",
    "\n",
    "# Instantiation\n",
    "model = MLP(neurons_per_layer, activation_function, learning_rate)\n",
    "\n",
    "# Query\n",
    "input = np.array([1.0, 0.5, -1.5], ndmin=2).T\n",
    "target = np.array([1.0, 0.5, -1.5], ndmin=2).T\n",
    "output = model.query(input)\n",
    "output"
   ]
  }
 ],
 "metadata": {
  "kernelspec": {
   "display_name": "base",
   "language": "python",
   "name": "python3"
  },
  "language_info": {
   "codemirror_mode": {
    "name": "ipython",
    "version": 3
   },
   "file_extension": ".py",
   "mimetype": "text/x-python",
   "name": "python",
   "nbconvert_exporter": "python",
   "pygments_lexer": "ipython3",
   "version": "3.12.7"
  }
 },
 "nbformat": 4,
 "nbformat_minor": 5
}
